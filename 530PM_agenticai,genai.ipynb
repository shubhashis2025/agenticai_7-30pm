{
 "cells": [
  {
   "cell_type": "code",
   "execution_count": 1,
   "id": "cbbe980c-1feb-4c3e-b315-21cc572f253b",
   "metadata": {},
   "outputs": [
    {
     "data": {
      "text/plain": [
       "9"
      ]
     },
     "execution_count": 1,
     "metadata": {},
     "output_type": "execute_result"
    }
   ],
   "source": [
    "9"
   ]
  },
  {
   "cell_type": "code",
   "execution_count": 2,
   "id": "f3ada7f2-6ad7-4758-be26-316f0dac8bea",
   "metadata": {},
   "outputs": [
    {
     "data": {
      "text/plain": [
       "18"
      ]
     },
     "execution_count": 2,
     "metadata": {},
     "output_type": "execute_result"
    }
   ],
   "source": [
    "9+9"
   ]
  },
  {
   "cell_type": "code",
   "execution_count": 3,
   "id": "075389f9-eca5-44bd-a54b-61c3ce01a745",
   "metadata": {},
   "outputs": [
    {
     "data": {
      "text/plain": [
       "-15"
      ]
     },
     "execution_count": 3,
     "metadata": {},
     "output_type": "execute_result"
    }
   ],
   "source": [
    "9+9- (10*3)-3"
   ]
  },
  {
   "cell_type": "code",
   "execution_count": 4,
   "id": "6add2b6b-3547-4e37-b114-80e1a32991cf",
   "metadata": {},
   "outputs": [
    {
     "data": {
      "text/plain": [
       "-15"
      ]
     },
     "execution_count": 4,
     "metadata": {},
     "output_type": "execute_result"
    }
   ],
   "source": [
    "9+9-10*3-3"
   ]
  },
  {
   "cell_type": "code",
   "execution_count": null,
   "id": "f324d6a6-7cbe-4e33-b6ca-ba378ab8323a",
   "metadata": {},
   "outputs": [],
   "source": [
    "# Here 9,9,10,3 is called operand & +,-,*,= is called operator (python operator)"
   ]
  },
  {
   "cell_type": "markdown",
   "id": "310cff65-0cee-4a19-b486-e0d5089e92bf",
   "metadata": {},
   "source": [
    "assignment operator"
   ]
  },
  {
   "cell_type": "code",
   "execution_count": 3,
   "id": "239f0cec-188a-4a35-bb7b-93a8bdb3d672",
   "metadata": {},
   "outputs": [
    {
     "data": {
      "text/plain": [
       "10"
      ]
     },
     "execution_count": 3,
     "metadata": {},
     "output_type": "execute_result"
    }
   ],
   "source": [
    "x=10\n",
    "x\n",
    "#'x' is variable/identifier , '10' is the value"
   ]
  },
  {
   "cell_type": "code",
   "execution_count": 11,
   "id": "db48bc99-3c66-4c34-b41b-8e3bdc8fd927",
   "metadata": {},
   "outputs": [
    {
     "data": {
      "text/plain": [
       "16"
      ]
     },
     "execution_count": 11,
     "metadata": {},
     "output_type": "execute_result"
    }
   ],
   "source": [
    "x+2"
   ]
  },
  {
   "cell_type": "code",
   "execution_count": 12,
   "id": "45567491-0bf2-4c0d-b7a7-b536d0ce9c48",
   "metadata": {},
   "outputs": [
    {
     "data": {
      "text/plain": [
       "14"
      ]
     },
     "execution_count": 12,
     "metadata": {},
     "output_type": "execute_result"
    }
   ],
   "source": [
    "x"
   ]
  },
  {
   "cell_type": "code",
   "execution_count": 13,
   "id": "e44c13bc-78ac-42df-b800-3e78b327436d",
   "metadata": {},
   "outputs": [],
   "source": [
    "x+=2"
   ]
  },
  {
   "cell_type": "code",
   "execution_count": 14,
   "id": "c7a39ff7-4a43-435b-a57c-5878a57d5a5f",
   "metadata": {},
   "outputs": [
    {
     "data": {
      "text/plain": [
       "16"
      ]
     },
     "execution_count": 14,
     "metadata": {},
     "output_type": "execute_result"
    }
   ],
   "source": [
    "x"
   ]
  },
  {
   "cell_type": "code",
   "execution_count": 15,
   "id": "48ba4653-c89f-4235-a9b2-0d979273b65f",
   "metadata": {},
   "outputs": [
    {
     "data": {
      "text/plain": [
       "16"
      ]
     },
     "execution_count": 15,
     "metadata": {},
     "output_type": "execute_result"
    }
   ],
   "source": [
    "x"
   ]
  },
  {
   "cell_type": "code",
   "execution_count": null,
   "id": "4398d9f0-6a7d-46d1-b830-df99c58d0cc9",
   "metadata": {},
   "outputs": [],
   "source": []
  },
  {
   "cell_type": "code",
   "execution_count": null,
   "id": "64ec7c95-1a0d-40a9-b6e1-a7ec541d70aa",
   "metadata": {},
   "outputs": [],
   "source": []
  },
  {
   "cell_type": "code",
   "execution_count": null,
   "id": "ef13c38c-3e14-4130-90aa-270dfd664133",
   "metadata": {},
   "outputs": [],
   "source": []
  }
 ],
 "metadata": {
  "kernelspec": {
   "display_name": "Python 3 (ipykernel)",
   "language": "python",
   "name": "python3"
  },
  "language_info": {
   "codemirror_mode": {
    "name": "ipython",
    "version": 3
   },
   "file_extension": ".py",
   "mimetype": "text/x-python",
   "name": "python",
   "nbconvert_exporter": "python",
   "pygments_lexer": "ipython3",
   "version": "3.12.7"
  }
 },
 "nbformat": 4,
 "nbformat_minor": 5
}
